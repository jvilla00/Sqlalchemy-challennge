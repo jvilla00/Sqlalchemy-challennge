{
 "cells": [
  {
   "cell_type": "code",
   "execution_count": 1,
   "metadata": {},
   "outputs": [],
   "source": [
    "%matplotlib inline\n",
    "from matplotlib import style\n",
    "style.use('fivethirtyeight')\n",
    "import matplotlib.pyplot as plt"
   ]
  },
  {
   "cell_type": "code",
   "execution_count": 2,
   "metadata": {},
   "outputs": [],
   "source": [
    "import numpy as np\n",
    "import pandas as pd\n",
    "import datetime as dt"
   ]
  },
  {
   "cell_type": "markdown",
   "metadata": {},
   "source": [
    "# Reflect Tables into SQLAlchemy ORM"
   ]
  },
  {
   "cell_type": "code",
   "execution_count": 3,
   "metadata": {},
   "outputs": [],
   "source": [
    "# Python SQL toolkit and Object Relational Mapper\n",
    "import sqlalchemy\n",
    "from sqlalchemy.ext.automap import automap_base\n",
    "from sqlalchemy.orm import Session\n",
    "from sqlalchemy import create_engine, func\n",
    "from flask import Flask, jsonify"
   ]
  },
  {
   "cell_type": "code",
   "execution_count": 4,
   "metadata": {},
   "outputs": [],
   "source": [
    "# create engine to hawaii.sqlite\n",
    "engine = create_engine(\"sqlite:///hawaii.sqlite\")"
   ]
  },
  {
   "cell_type": "code",
   "execution_count": 5,
   "metadata": {},
   "outputs": [],
   "source": [
    "# reflect an existing database into a new model\n",
    "Base = automap_base()\n",
    "# reflect the tables\n",
    "Base.prepare(engine, reflect=True)"
   ]
  },
  {
   "cell_type": "code",
   "execution_count": 6,
   "metadata": {},
   "outputs": [
    {
     "data": {
      "text/plain": [
       "['measurement', 'station']"
      ]
     },
     "execution_count": 6,
     "metadata": {},
     "output_type": "execute_result"
    }
   ],
   "source": [
    "# View all of the classes that automap found\n",
    "Base.classes.keys()"
   ]
  },
  {
   "cell_type": "code",
   "execution_count": 7,
   "metadata": {},
   "outputs": [],
   "source": [
    "# Save references to each table\n",
    "Measurement= Base.classes.measurement\n",
    "Station= Base.classes.station"
   ]
  },
  {
   "cell_type": "code",
   "execution_count": 8,
   "metadata": {},
   "outputs": [],
   "source": [
    "# Create our session (link) from Python to the DB\n",
    "session = Session (engine)"
   ]
  },
  {
   "cell_type": "markdown",
   "metadata": {},
   "source": [
    "# Exploratory Precipitation Analysis"
   ]
  },
  {
   "cell_type": "code",
   "execution_count": 9,
   "metadata": {},
   "outputs": [
    {
     "data": {
      "text/plain": [
       "('2017-08-23',)"
      ]
     },
     "execution_count": 9,
     "metadata": {},
     "output_type": "execute_result"
    }
   ],
   "source": [
    "# Find the most recent date in the data set.\n",
    "recent_date=(session.query(Measurement.date)\n",
    "                    .order_by(Measurement.date.desc())\n",
    "                    .first())\n",
    "recent_date"
   ]
  },
  {
   "cell_type": "code",
   "execution_count": 10,
   "metadata": {},
   "outputs": [
    {
     "name": "stdout",
     "output_type": "stream",
     "text": [
      "Query Date: 2016-08-22\n"
     ]
    },
    {
     "data": {
      "text/html": [
       "<div>\n",
       "<style scoped>\n",
       "    .dataframe tbody tr th:only-of-type {\n",
       "        vertical-align: middle;\n",
       "    }\n",
       "\n",
       "    .dataframe tbody tr th {\n",
       "        vertical-align: top;\n",
       "    }\n",
       "\n",
       "    .dataframe thead th {\n",
       "        text-align: right;\n",
       "    }\n",
       "</style>\n",
       "<table border=\"1\" class=\"dataframe\">\n",
       "  <thead>\n",
       "    <tr style=\"text-align: right;\">\n",
       "      <th></th>\n",
       "      <th>Precipitation</th>\n",
       "    </tr>\n",
       "    <tr>\n",
       "      <th>Date</th>\n",
       "      <th></th>\n",
       "    </tr>\n",
       "  </thead>\n",
       "  <tbody>\n",
       "    <tr>\n",
       "      <th>2016-08-23</th>\n",
       "      <td>1.79</td>\n",
       "    </tr>\n",
       "    <tr>\n",
       "      <th>2016-08-24</th>\n",
       "      <td>2.28</td>\n",
       "    </tr>\n",
       "    <tr>\n",
       "      <th>2016-08-25</th>\n",
       "      <td>0.21</td>\n",
       "    </tr>\n",
       "    <tr>\n",
       "      <th>2016-08-26</th>\n",
       "      <td>0.04</td>\n",
       "    </tr>\n",
       "    <tr>\n",
       "      <th>2016-08-27</th>\n",
       "      <td>0.18</td>\n",
       "    </tr>\n",
       "    <tr>\n",
       "      <th>2016-08-28</th>\n",
       "      <td>2.07</td>\n",
       "    </tr>\n",
       "    <tr>\n",
       "      <th>2016-08-29</th>\n",
       "      <td>0.90</td>\n",
       "    </tr>\n",
       "    <tr>\n",
       "      <th>2016-08-30</th>\n",
       "      <td>0.05</td>\n",
       "    </tr>\n",
       "    <tr>\n",
       "      <th>2016-08-31</th>\n",
       "      <td>2.46</td>\n",
       "    </tr>\n",
       "    <tr>\n",
       "      <th>2016-09-01</th>\n",
       "      <td>0.02</td>\n",
       "    </tr>\n",
       "  </tbody>\n",
       "</table>\n",
       "</div>"
      ],
      "text/plain": [
       "            Precipitation \n",
       "Date                      \n",
       "2016-08-23            1.79\n",
       "2016-08-24            2.28\n",
       "2016-08-25            0.21\n",
       "2016-08-26            0.04\n",
       "2016-08-27            0.18\n",
       "2016-08-28            2.07\n",
       "2016-08-29            0.90\n",
       "2016-08-30            0.05\n",
       "2016-08-31            2.46\n",
       "2016-09-01            0.02"
      ]
     },
     "execution_count": 10,
     "metadata": {},
     "output_type": "execute_result"
    }
   ],
   "source": [
    "# Design a query to retrieve the last 12 months of precipitation data and plot the results. \n",
    "# Starting from the most recent data point in the database. \n",
    "\n",
    "# Calculate the date one year from the last date in data set.\n",
    "oneyeardate=dt.date(2017, 8, 23) - dt.timedelta(days=366)\n",
    "print('Query Date:', oneyeardate)\n",
    "\n",
    "# Perform a query to retrieve the data and precipitation scores\n",
    "precip_year=(session.query(Measurement.date,func.max(Measurement.prcp))\n",
    "                  .filter(func.strftime('%Y-%m-%d',Measurement.date) > oneyeardate)\n",
    "                  .group_by(Measurement.date)\n",
    "                  .all())\n",
    "precip_year\n",
    "\n",
    "# Save the query results as a Pandas DataFrame and set the index to the date column\n",
    "precip_df=pd.DataFrame(precip_year, columns=['Date', 'Precipitation '])\n",
    "precip_df.set_index('Date',inplace=True)\n",
    "precip_df.head(10)\n",
    "\n",
    "\n",
    "\n",
    "\n",
    "\n",
    "\n"
   ]
  },
  {
   "cell_type": "code",
   "execution_count": 11,
   "metadata": {},
   "outputs": [
    {
     "data": {
      "text/html": [
       "<div>\n",
       "<style scoped>\n",
       "    .dataframe tbody tr th:only-of-type {\n",
       "        vertical-align: middle;\n",
       "    }\n",
       "\n",
       "    .dataframe tbody tr th {\n",
       "        vertical-align: top;\n",
       "    }\n",
       "\n",
       "    .dataframe thead th {\n",
       "        text-align: right;\n",
       "    }\n",
       "</style>\n",
       "<table border=\"1\" class=\"dataframe\">\n",
       "  <thead>\n",
       "    <tr style=\"text-align: right;\">\n",
       "      <th></th>\n",
       "      <th>Precipitation</th>\n",
       "    </tr>\n",
       "    <tr>\n",
       "      <th>Date</th>\n",
       "      <th></th>\n",
       "    </tr>\n",
       "  </thead>\n",
       "  <tbody>\n",
       "    <tr>\n",
       "      <th>2016-08-23</th>\n",
       "      <td>1.79</td>\n",
       "    </tr>\n",
       "    <tr>\n",
       "      <th>2016-08-24</th>\n",
       "      <td>2.28</td>\n",
       "    </tr>\n",
       "    <tr>\n",
       "      <th>2016-08-25</th>\n",
       "      <td>0.21</td>\n",
       "    </tr>\n",
       "    <tr>\n",
       "      <th>2016-08-26</th>\n",
       "      <td>0.04</td>\n",
       "    </tr>\n",
       "    <tr>\n",
       "      <th>2016-08-27</th>\n",
       "      <td>0.18</td>\n",
       "    </tr>\n",
       "    <tr>\n",
       "      <th>...</th>\n",
       "      <td>...</td>\n",
       "    </tr>\n",
       "    <tr>\n",
       "      <th>2017-08-19</th>\n",
       "      <td>0.09</td>\n",
       "    </tr>\n",
       "    <tr>\n",
       "      <th>2017-08-20</th>\n",
       "      <td>0.01</td>\n",
       "    </tr>\n",
       "    <tr>\n",
       "      <th>2017-08-21</th>\n",
       "      <td>0.56</td>\n",
       "    </tr>\n",
       "    <tr>\n",
       "      <th>2017-08-22</th>\n",
       "      <td>0.50</td>\n",
       "    </tr>\n",
       "    <tr>\n",
       "      <th>2017-08-23</th>\n",
       "      <td>0.45</td>\n",
       "    </tr>\n",
       "  </tbody>\n",
       "</table>\n",
       "<p>366 rows × 1 columns</p>\n",
       "</div>"
      ],
      "text/plain": [
       "            Precipitation \n",
       "Date                      \n",
       "2016-08-23            1.79\n",
       "2016-08-24            2.28\n",
       "2016-08-25            0.21\n",
       "2016-08-26            0.04\n",
       "2016-08-27            0.18\n",
       "...                    ...\n",
       "2017-08-19            0.09\n",
       "2017-08-20            0.01\n",
       "2017-08-21            0.56\n",
       "2017-08-22            0.50\n",
       "2017-08-23            0.45\n",
       "\n",
       "[366 rows x 1 columns]"
      ]
     },
     "execution_count": 11,
     "metadata": {},
     "output_type": "execute_result"
    }
   ],
   "source": [
    "# Sort the dataframe by date\n",
    "precip_df.sort_values('Date')"
   ]
  },
  {
   "cell_type": "code",
   "execution_count": 12,
   "metadata": {},
   "outputs": [
    {
     "data": {
      "text/plain": [
       "Text(0.5, 1.0, 'Precipitaion recorded at all stations in 12 months')"
      ]
     },
     "execution_count": 12,
     "metadata": {},
     "output_type": "execute_result"
    },
    {
     "data": {
      "image/png": "[encoded data removed]",
      "text/plain": [
       "<Figure size 1080x720 with 1 Axes>"
      ]
     },
     "metadata": {},
     "output_type": "display_data"
    }
   ],
   "source": [
    "# Use Pandas Plotting with Matplotlib to plot the data\n",
    "precip_df.plot(figsize=(15,10))\n",
    "plt.tight_layout()\n",
    "plt.title(\"Precipitaion recorded at all stations in 12 months\" , size = 20)"
   ]
  },
  {
   "cell_type": "code",
   "execution_count": 13,
   "metadata": {},
   "outputs": [
    {
     "data": {
      "text/html": [
       "<div>\n",
       "<style scoped>\n",
       "    .dataframe tbody tr th:only-of-type {\n",
       "        vertical-align: middle;\n",
       "    }\n",
       "\n",
       "    .dataframe tbody tr th {\n",
       "        vertical-align: top;\n",
       "    }\n",
       "\n",
       "    .dataframe thead th {\n",
       "        text-align: right;\n",
       "    }\n",
       "</style>\n",
       "<table border=\"1\" class=\"dataframe\">\n",
       "  <thead>\n",
       "    <tr style=\"text-align: right;\">\n",
       "      <th></th>\n",
       "      <th>Precipitation</th>\n",
       "    </tr>\n",
       "  </thead>\n",
       "  <tbody>\n",
       "    <tr>\n",
       "      <th>count</th>\n",
       "      <td>366.000000</td>\n",
       "    </tr>\n",
       "    <tr>\n",
       "      <th>mean</th>\n",
       "      <td>0.520765</td>\n",
       "    </tr>\n",
       "    <tr>\n",
       "      <th>std</th>\n",
       "      <td>0.830728</td>\n",
       "    </tr>\n",
       "    <tr>\n",
       "      <th>min</th>\n",
       "      <td>0.000000</td>\n",
       "    </tr>\n",
       "    <tr>\n",
       "      <th>25%</th>\n",
       "      <td>0.040000</td>\n",
       "    </tr>\n",
       "    <tr>\n",
       "      <th>50%</th>\n",
       "      <td>0.250000</td>\n",
       "    </tr>\n",
       "    <tr>\n",
       "      <th>75%</th>\n",
       "      <td>0.672500</td>\n",
       "    </tr>\n",
       "    <tr>\n",
       "      <th>max</th>\n",
       "      <td>6.700000</td>\n",
       "    </tr>\n",
       "  </tbody>\n",
       "</table>\n",
       "</div>"
      ],
      "text/plain": [
       "       Precipitation \n",
       "count      366.000000\n",
       "mean         0.520765\n",
       "std          0.830728\n",
       "min          0.000000\n",
       "25%          0.040000\n",
       "50%          0.250000\n",
       "75%          0.672500\n",
       "max          6.700000"
      ]
     },
     "execution_count": 13,
     "metadata": {},
     "output_type": "execute_result"
    }
   ],
   "source": [
    "# Use Pandas to calcualte the summary statistics for the precipitation data\n",
    "precip_df.describe()"
   ]
  },
  {
   "cell_type": "markdown",
   "metadata": {},
   "source": [
    "# Exploratory Station Analysis"
   ]
  },
  {
   "cell_type": "code",
   "execution_count": 14,
   "metadata": {},
   "outputs": [
    {
     "data": {
      "text/plain": [
       "9"
      ]
     },
     "execution_count": 14,
     "metadata": {},
     "output_type": "execute_result"
    }
   ],
   "source": [
    "# Design a query to calculate the total number stations in the dataset\n",
    "totalstations=session.query(Station).count()\n",
    "totalstations"
   ]
  },
  {
   "cell_type": "code",
   "execution_count": 15,
   "metadata": {},
   "outputs": [
    {
     "data": {
      "text/plain": [
       "[('USC00519281', 2772),\n",
       " ('USC00519397', 2724),\n",
       " ('USC00513117', 2709),\n",
       " ('USC00519523', 2669),\n",
       " ('USC00516128', 2612),\n",
       " ('USC00514830', 2202),\n",
       " ('USC00511918', 1979),\n",
       " ('USC00517948', 1372),\n",
       " ('USC00518838', 511)]"
      ]
     },
     "execution_count": 15,
     "metadata": {},
     "output_type": "execute_result"
    }
   ],
   "source": [
    "# Design a query to find the most active stations (i.e. what stations have the most rows?)\n",
    "# List the stations and the counts in descending order.\n",
    "activity_stations=(session.query(Measurement.station,func.count(Measurement.station))\n",
    "                         .group_by(Measurement.station)\n",
    "                         .order_by(func.count(Measurement.station).desc())\n",
    "                         .all())\n",
    "activity_stations"
   ]
  },
  {
   "cell_type": "code",
   "execution_count": 17,
   "metadata": {},
   "outputs": [
    {
     "data": {
      "text/plain": [
       "[(54.0, 85.0, 71.66378066378067)]"
      ]
     },
     "execution_count": 17,
     "metadata": {},
     "output_type": "execute_result"
    }
   ],
   "source": [
    "# Using the most active station id from the previous query, calculate the lowest, highest, and average temperature.\n",
    "activeresult = session.query(func.min(Measurement.tobs),func.max(Measurement.tobs),func.avg(Measurement.tobs)).\\\n",
    "                filter(Measurement.station == 'USC00519281').order_by(func.min(Measurement.tobs)).all()\n",
    "activeresult\n"
   ]
  },
  {
   "cell_type": "code",
   "execution_count": 18,
   "metadata": {},
   "outputs": [
    {
     "data": {
      "text/plain": [
       "[(72.0,),\n",
       " (70.0,),\n",
       " (64.0,),\n",
       " (63.0,),\n",
       " (63.0,),\n",
       " (62.0,),\n",
       " (70.0,),\n",
       " (70.0,),\n",
       " (62.0,),\n",
       " (62.0,),\n",
       " (63.0,),\n",
       " (65.0,),\n",
       " (69.0,),\n",
       " (77.0,),\n",
       " (70.0,),\n",
       " (74.0,),\n",
       " (69.0,),\n",
       " (72.0,),\n",
       " (71.0,),\n",
       " (69.0,),\n",
       " (71.0,),\n",
       " (71.0,),\n",
       " (72.0,),\n",
       " (72.0,),\n",
       " (69.0,),\n",
       " (70.0,),\n",
       " (66.0,),\n",
       " (65.0,),\n",
       " (69.0,),\n",
       " (68.0,),\n",
       " (68.0,),\n",
       " (68.0,),\n",
       " (59.0,),\n",
       " (60.0,),\n",
       " (70.0,),\n",
       " (73.0,),\n",
       " (75.0,),\n",
       " (64.0,),\n",
       " (59.0,),\n",
       " (59.0,),\n",
       " (62.0,),\n",
       " (68.0,),\n",
       " (70.0,),\n",
       " (73.0,),\n",
       " (79.0,),\n",
       " (75.0,),\n",
       " (65.0,),\n",
       " (70.0,),\n",
       " (74.0,),\n",
       " (70.0,),\n",
       " (70.0,),\n",
       " (71.0,),\n",
       " (71.0,),\n",
       " (71.0,),\n",
       " (69.0,),\n",
       " (61.0,),\n",
       " (67.0,),\n",
       " (65.0,),\n",
       " (72.0,),\n",
       " (71.0,),\n",
       " (73.0,),\n",
       " (72.0,),\n",
       " (77.0,),\n",
       " (73.0,),\n",
       " (67.0,),\n",
       " (62.0,),\n",
       " (64.0,),\n",
       " (67.0,),\n",
       " (66.0,),\n",
       " (81.0,),\n",
       " (69.0,),\n",
       " (66.0,),\n",
       " (67.0,),\n",
       " (69.0,),\n",
       " (66.0,),\n",
       " (68.0,),\n",
       " (65.0,),\n",
       " (74.0,),\n",
       " (69.0,),\n",
       " (72.0,),\n",
       " (73.0,),\n",
       " (72.0,),\n",
       " (71.0,),\n",
       " (76.0,),\n",
       " (77.0,),\n",
       " (76.0,),\n",
       " (74.0,),\n",
       " (68.0,),\n",
       " (73.0,),\n",
       " (71.0,),\n",
       " (74.0,),\n",
       " (75.0,),\n",
       " (70.0,),\n",
       " (67.0,),\n",
       " (71.0,),\n",
       " (67.0,),\n",
       " (74.0,),\n",
       " (77.0,),\n",
       " (78.0,),\n",
       " (67.0,),\n",
       " (70.0,),\n",
       " (69.0,),\n",
       " (69.0,),\n",
       " (74.0,),\n",
       " (78.0,),\n",
       " (71.0,),\n",
       " (67.0,),\n",
       " (68.0,),\n",
       " (67.0,),\n",
       " (76.0,),\n",
       " (69.0,),\n",
       " (72.0,),\n",
       " (76.0,),\n",
       " (68.0,),\n",
       " (72.0,),\n",
       " (74.0,),\n",
       " (70.0,),\n",
       " (67.0,),\n",
       " (72.0,),\n",
       " (60.0,),\n",
       " (65.0,),\n",
       " (75.0,),\n",
       " (70.0,),\n",
       " (75.0,),\n",
       " (70.0,),\n",
       " (79.0,),\n",
       " (75.0,),\n",
       " (70.0,),\n",
       " (67.0,),\n",
       " (74.0,),\n",
       " (70.0,),\n",
       " (75.0,),\n",
       " (76.0,),\n",
       " (77.0,),\n",
       " (74.0,),\n",
       " (74.0,),\n",
       " (74.0,),\n",
       " (69.0,),\n",
       " (68.0,),\n",
       " (76.0,),\n",
       " (74.0,),\n",
       " (71.0,),\n",
       " (71.0,),\n",
       " (74.0,),\n",
       " (74.0,),\n",
       " (74.0,),\n",
       " (74.0,),\n",
       " (80.0,),\n",
       " (74.0,),\n",
       " (72.0,),\n",
       " (75.0,),\n",
       " (80.0,),\n",
       " (76.0,),\n",
       " (76.0,),\n",
       " (77.0,),\n",
       " (75.0,),\n",
       " (75.0,),\n",
       " (75.0,),\n",
       " (75.0,),\n",
       " (72.0,),\n",
       " (74.0,),\n",
       " (74.0,),\n",
       " (74.0,),\n",
       " (76.0,),\n",
       " (74.0,),\n",
       " (75.0,),\n",
       " (73.0,),\n",
       " (79.0,),\n",
       " (75.0,),\n",
       " (72.0,),\n",
       " (72.0,),\n",
       " (74.0,),\n",
       " (72.0,),\n",
       " (72.0,),\n",
       " (77.0,),\n",
       " (71.0,),\n",
       " (73.0,),\n",
       " (76.0,),\n",
       " (77.0,),\n",
       " (76.0,),\n",
       " (76.0,),\n",
       " (79.0,),\n",
       " (81.0,),\n",
       " (76.0,),\n",
       " (78.0,),\n",
       " (77.0,),\n",
       " (74.0,),\n",
       " (75.0,),\n",
       " (78.0,),\n",
       " (78.0,),\n",
       " (69.0,),\n",
       " (72.0,),\n",
       " (74.0,),\n",
       " (74.0,),\n",
       " (76.0,),\n",
       " (80.0,),\n",
       " (80.0,),\n",
       " (76.0,),\n",
       " (76.0,),\n",
       " (76.0,),\n",
       " (77.0,),\n",
       " (77.0,),\n",
       " (77.0,),\n",
       " (82.0,),\n",
       " (75.0,),\n",
       " (77.0,),\n",
       " (75.0,),\n",
       " (76.0,),\n",
       " (81.0,),\n",
       " (82.0,),\n",
       " (81.0,),\n",
       " (76.0,),\n",
       " (77.0,),\n",
       " (82.0,),\n",
       " (83.0,),\n",
       " (77.0,),\n",
       " (77.0,),\n",
       " (77.0,),\n",
       " (76.0,),\n",
       " (76.0,),\n",
       " (79.0,)]"
      ]
     },
     "execution_count": 18,
     "metadata": {},
     "output_type": "execute_result"
    }
   ],
   "source": [
    "# Using the most active station id\n",
    "# Query the last 12 months of temperature observation data for this station and plot the results as a histogram\n",
    "tempresults =  session.query(Measurement.tobs).\\\n",
    "                          filter(Measurement.station == 'USC00519281' ).\\\n",
    "                          filter(Measurement.date >= '2017,8,23').all()\n",
    "\n",
    "tempresults"
   ]
  },
  {
   "cell_type": "code",
   "execution_count": 24,
   "metadata": {},
   "outputs": [
    {
     "data": {
      "image/png": "[encoded data removed]",
      "text/plain": [
       "<Figure size 432x288 with 1 Axes>"
      ]
     },
     "metadata": {},
     "output_type": "display_data"
    }
   ],
   "source": [
    " tempgraph= pd.DataFrame(tempresults , columns = ['Tobs'])\n",
    "\n",
    "\n",
    "tempgraph.hist( bins = 20)\n",
    "\n",
    "plt.ylabel(\"Frequency\", fontsize = 15)\n",
    "plt.title(\"Temperatures observed for station 'USC00519281' in the last 12 months from the latest recorded temp\" ,\n",
    "           size = 20)\n",
    "labels = [\"Tobs\"]\n",
    "plt.legend(labels)\n",
    "\n",
    "\n",
    "plt.show()"
   ]
  },
  {
   "cell_type": "markdown",
   "metadata": {},
   "source": [
    "# Close session"
   ]
  },
  {
   "cell_type": "code",
   "execution_count": null,
   "metadata": {},
   "outputs": [],
   "source": [
    "# Close Session\n",
    "session.close()"
   ]
  },
  {
   "cell_type": "code",
   "execution_count": null,
   "metadata": {},
   "outputs": [],
   "source": []
  }
 ],
 "metadata": {
  "anaconda-cloud": {},
  "kernel_info": {
   "name": "python3"
  },
  "kernelspec": {
   "display_name": "Python 3 (ipykernel)",
   "language": "python",
   "name": "python3"
  },
  "language_info": {
   "codemirror_mode": {
    "name": "ipython",
    "version": 3
   },
   "file_extension": ".py",
   "mimetype": "text/x-python",
   "name": "python",
   "nbconvert_exporter": "python",
   "pygments_lexer": "ipython3",
   "version": "3.9.12"
  },
  "nteract": {
   "version": "0.12.3"
  },
  "varInspector": {
   "cols": {
    "lenName": 16,
    "lenType": 16,
    "lenVar": 40
   },
   "kernels_config": {
    "python": {
     "delete_cmd_postfix": "",
     "delete_cmd_prefix": "del ",
     "library": "var_list.py",
     "varRefreshCmd": "print(var_dic_list())"
    },
    "r": {
     "delete_cmd_postfix": ") ",
     "delete_cmd_prefix": "rm(",
     "library": "var_list.r",
     "varRefreshCmd": "cat(var_dic_list()) "
    }
   },
   "types_to_exclude": [
    "module",
    "function",
    "builtin_function_or_method",
    "instance",
    "_Feature"
   ],
   "window_display": false
  }
 },
 "nbformat": 4,
 "nbformat_minor": 2
}
